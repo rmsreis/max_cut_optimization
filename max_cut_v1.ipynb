{
 "cells": [
  {
   "cell_type": "markdown",
   "id": "a4238829",
   "metadata": {},
   "source": [
    "### First code on max cut optimization"
   ]
  },
  {
   "cell_type": "code",
   "execution_count": null,
   "id": "d46e98bb",
   "metadata": {},
   "outputs": [],
   "source": []
  }
 ],
 "metadata": {
  "language_info": {
   "name": "python"
  }
 },
 "nbformat": 4,
 "nbformat_minor": 5
}
